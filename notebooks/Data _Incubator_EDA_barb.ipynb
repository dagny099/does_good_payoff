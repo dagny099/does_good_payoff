{
 "cells": [
  {
   "cell_type": "markdown",
   "metadata": {},
   "source": [
    "# EDA for Data Incubator project proposal, fall 2020\n",
    "\n",
    "*Draft 1: How does performance relate to compensation in publicly funded universities?\n",
    "\n",
    "*Draft 2: How to best model enrollement at public universities?"
   ]
  },
  {
   "attachments": {},
   "cell_type": "markdown",
   "metadata": {},
   "source": [
    "<hr>\n",
    "\n",
    "## Purpose of this Jupyter notebook is to accompany the project dashboard\n",
    "\n",
    "### Here's [my project dashboard](http://barb-data-inc.herokuapp.com/) showing last updated version of dashboard/report.\n",
    "\n",
    "Note: Here is a link to [Urban Institute's data explorer](https://educationdata.urban.org/data-explorer/colleges/) where I downloaded the data. The data explorer's sources include: College Scorecard and Integrated Postsecondary Education Data System.\n",
    "\n",
    "Link to [my document](https://github.com/dagny099/does_good_payoff/blob/master/docs/getting-started.rst) showing selection criteria and variables.\n",
    "\n"
   ]
  },
  {
   "cell_type": "code",
   "execution_count": 1,
   "metadata": {},
   "outputs": [],
   "source": [
    "# --------------------------------\n",
    "# IMPORT MODULES\n",
    "# --------------------------------\n",
    "import pandas as pd\n",
    "import numpy as np\n",
    "from datetime import datetime as dt\n",
    "\n",
    "import plotly.express as px\n",
    "import plotly.graph_objs as go\n",
    "from plotly.offline import init_notebook_mode, iplot\n",
    "import chart_studio.plotly as py\n",
    "import cufflinks as cf\n",
    "import plotly\n",
    "\n",
    "import matplotlib.pyplot as plt\n",
    "%matplotlib inline"
   ]
  },
  {
   "cell_type": "code",
   "execution_count": 14,
   "metadata": {},
   "outputs": [],
   "source": [
    "# Create a variable, options, with a list of dicts w/ keys {'label': , 'value'}\n",
    "def make_options(df):\n",
    "    n=df.unitid.nunique()\n",
    "    state_options=[{'label': 'All '+str(n)+\" schools\", 'value':''}]\n",
    "    for state in df.state_name.unique():\n",
    "        n=df.groupby(['state_name'])['unitid'].nunique().loc[state]\n",
    "        state_options.append({'label': state+\" (\"+str(n)+\" schools)\", 'value': state })\n",
    "    return state_options\n"
   ]
  },
  {
   "cell_type": "code",
   "execution_count": 3,
   "metadata": {},
   "outputs": [],
   "source": [
    "# Return Standard Error of Mean\n",
    "def sem_btwn(x):\n",
    "    return round(np.std(x)/np.sqrt(x.count()),3)\n"
   ]
  },
  {
   "cell_type": "code",
   "execution_count": 4,
   "metadata": {},
   "outputs": [],
   "source": [
    "# Create a summary of early yrs - late yrs:\n",
    "def tbl_early_late(df):\n",
    "    tbl = pd.concat([pd.DataFrame(df[0:2].apply(np.mean),columns=['Avg 2001-02']),\n",
    "            pd.DataFrame(df[-2:].apply(np.mean),columns=['Avg 2016-17'])],axis=1)\n",
    "    return round(pd.concat([tbl, \n",
    "            pd.DataFrame(df[0:2].apply(np.mean) - df[-2:].apply(np.mean), columns=['DIFF'])],axis=1),3)\n"
   ]
  },
  {
   "cell_type": "code",
   "execution_count": 53,
   "metadata": {},
   "outputs": [],
   "source": [
    "# Filter data for a balanced dataset w.r.t. measure-of-interest\n",
    "def get_school_data(df, which_columns=['number_enrolled_total'], earliestYr=0, nYrs=0):\n",
    "    # Use this to find the most common number of years for which data exists:\n",
    "    if nYrs==0:\n",
    "        nYrs = df.groupby(['unitid'])[which_columns[0]].count().value_counts().index[0]\n",
    "\n",
    "    # Filter years, if desired\n",
    "    df = df[df.year.dt.year>=earliestYr]\n",
    "\n",
    "    # Make a temp df with number of years w/ data available for key measure\n",
    "    tmpDf = df.groupby('unitid')[which_columns].count()\n",
    "\n",
    "    # Make a list of schools w/ data in all years, only include those:\n",
    "    unitids = tmpDf[tmpDf[which_columns[0]]==nYrs].index.to_list()\n",
    "    filt = df.apply(lambda row: row['unitid'] in unitids, axis=1)\n",
    "\n",
    "    print(f\"These were the input parameters: {which_columns[0]}, {earliestYr}\")\n",
    "    print(f\"Returning a data frame w: {df[filt].unitid.nunique()} schools data in, from {df[filt].year.min().year} thru {df[filt].year.max().year} (that makes {nYrs} yrs of data for {which_columns[0]})\")\n",
    "    \n",
    "    # Make a DF & list of options for the dropdown menu - ENROLLMENT SECTION\n",
    "    return df[filt]\n"
   ]
  },
  {
   "cell_type": "code",
   "execution_count": 28,
   "metadata": {},
   "outputs": [],
   "source": [
    "# --------------------------------\n",
    "# Acquire the Data:\n",
    "# --------------------------------\n",
    "path2file=\"/Users/bhs/PYTHON-STUFF/DataIncubator/does_good_payoff/data/interim/analyzeMe_n175.csv\"\n",
    "df = pd.read_csv(path2file, na_values=np.nan,#parse_dates=['year'], \n",
    "                   dtype={'unitid':'category', 'inst_name': 'category', 'state_name': 'category',\n",
    "                         'enrollement_rate': 'float64', 'female_pct': 'float64', 'married_pct': 'float64'})\n",
    "\n",
    "# Set 'year' as datetime \n",
    "df['year'] = df['year'].apply(pd.to_datetime, format='%Y')\n",
    "\n",
    "# Keep these columns (subset from CSV) as potential features for model:\n",
    "keepcols = ['admission_rate','enrollement_rate','number_applied','number_admitted','number_enrolled_total',\n",
    "        'rev_tuition_fees_gross', 'rev_tuition_fees_net','rev_total_current','rev_fed_approps_grants','rev_state_local_approps_grants','rev_other',\n",
    "       'exp_total_current','exp_instruc_total','exp_acad_supp_total','exp_student_serv_total','exp_res_pub_serv_total',\n",
    "        'completers_150pct','completion_rate_150pct','female_pct','married_pct',\n",
    "      'year','unitid','inst_name','state_name']\n",
    "\n",
    "dropcols = [c for c in df.columns if c not in keepcols]\n",
    "\n",
    "df.drop(dropcols,axis=1,inplace=True)\n"
   ]
  },
  {
   "cell_type": "code",
   "execution_count": 54,
   "metadata": {
    "collapsed": true
   },
   "outputs": [
    {
     "name": "stdout",
     "output_type": "stream",
     "text": [
      "These were the input parameters: enrollement_rate, 2001\n",
      "Returning a data frame w: 165 schools data in, from 2001 thru 2017 (that makes 17 yrs of data for enrollement_rate)\n"
     ]
    },
    {
     "data": {
      "text/plain": [
       "[{'label': 'All 165 schools', 'value': ''},\n",
       " {'label': 'Arizona (3 schools)', 'value': 'Arizona'},\n",
       " {'label': 'California (27 schools)', 'value': 'California'},\n",
       " {'label': 'Florida (8 schools)', 'value': 'Florida'},\n",
       " {'label': 'Georgia (7 schools)', 'value': 'Georgia'},\n",
       " {'label': 'Indiana (8 schools)', 'value': 'Indiana'},\n",
       " {'label': 'Michigan (12 schools)', 'value': 'Michigan'},\n",
       " {'label': 'Minnesota (6 schools)', 'value': 'Minnesota'},\n",
       " {'label': 'New York (27 schools)', 'value': 'New York'},\n",
       " {'label': 'Ohio (7 schools)', 'value': 'Ohio'},\n",
       " {'label': 'Oregon (3 schools)', 'value': 'Oregon'},\n",
       " {'label': 'Pennsylvania (19 schools)', 'value': 'Pennsylvania'},\n",
       " {'label': 'Texas (16 schools)', 'value': 'Texas'},\n",
       " {'label': 'Virginia (11 schools)', 'value': 'Virginia'},\n",
       " {'label': 'Wisconsin (11 schools)', 'value': 'Wisconsin'}]"
      ]
     },
     "execution_count": 54,
     "metadata": {},
     "output_type": "execute_result"
    }
   ],
   "source": [
    "# ENROLLMENT SECTION\n",
    "df_enroll = get_school_data(df, ['enrollement_rate'], 2001)\n",
    "make_options(df_enroll)"
   ]
  },
  {
   "cell_type": "code",
   "execution_count": 55,
   "metadata": {},
   "outputs": [
    {
     "name": "stdout",
     "output_type": "stream",
     "text": [
      "These were the input parameters: rev_total_current, 0\n",
      "Returning a data frame w: 171 schools data in, from 1990 thru 2017 (that makes 28 yrs of data for rev_total_current)\n"
     ]
    },
    {
     "data": {
      "text/plain": [
       "[{'label': 'All 171 schools', 'value': ''},\n",
       " {'label': 'Arizona (3 schools)', 'value': 'Arizona'},\n",
       " {'label': 'California (26 schools)', 'value': 'California'},\n",
       " {'label': 'Florida (9 schools)', 'value': 'Florida'},\n",
       " {'label': 'Georgia (8 schools)', 'value': 'Georgia'},\n",
       " {'label': 'Indiana (8 schools)', 'value': 'Indiana'},\n",
       " {'label': 'Michigan (12 schools)', 'value': 'Michigan'},\n",
       " {'label': 'Minnesota (6 schools)', 'value': 'Minnesota'},\n",
       " {'label': 'New York (29 schools)', 'value': 'New York'},\n",
       " {'label': 'Ohio (7 schools)', 'value': 'Ohio'},\n",
       " {'label': 'Oregon (3 schools)', 'value': 'Oregon'},\n",
       " {'label': 'Pennsylvania (18 schools)', 'value': 'Pennsylvania'},\n",
       " {'label': 'Texas (18 schools)', 'value': 'Texas'},\n",
       " {'label': 'Virginia (13 schools)', 'value': 'Virginia'},\n",
       " {'label': 'Wisconsin (11 schools)', 'value': 'Wisconsin'}]"
      ]
     },
     "execution_count": 55,
     "metadata": {},
     "output_type": "execute_result"
    }
   ],
   "source": [
    "\n"
   ]
  },
  {
   "cell_type": "code",
   "execution_count": 20,
   "metadata": {},
   "outputs": [
    {
     "data": {
      "text/html": [
       "<div>\n",
       "<style scoped>\n",
       "    .dataframe tbody tr th:only-of-type {\n",
       "        vertical-align: middle;\n",
       "    }\n",
       "\n",
       "    .dataframe tbody tr th {\n",
       "        vertical-align: top;\n",
       "    }\n",
       "\n",
       "    .dataframe thead th {\n",
       "        text-align: right;\n",
       "    }\n",
       "</style>\n",
       "<table border=\"1\" class=\"dataframe\">\n",
       "  <thead>\n",
       "    <tr style=\"text-align: right;\">\n",
       "      <th></th>\n",
       "      <th>year</th>\n",
       "      <th>unitid</th>\n",
       "      <th>inst_name</th>\n",
       "      <th>state_name</th>\n",
       "      <th>admission_rate</th>\n",
       "      <th>enrollement_rate</th>\n",
       "      <th>number_applied</th>\n",
       "      <th>number_admitted</th>\n",
       "      <th>number_enrolled_total</th>\n",
       "      <th>rev_tuition_fees_gross</th>\n",
       "      <th>...</th>\n",
       "      <th>rev_total_current</th>\n",
       "      <th>exp_instruc_total</th>\n",
       "      <th>exp_res_pub_serv_total</th>\n",
       "      <th>exp_acad_supp_total</th>\n",
       "      <th>exp_student_serv_total</th>\n",
       "      <th>exp_total_current</th>\n",
       "      <th>completers_150pct</th>\n",
       "      <th>completion_rate_150pct</th>\n",
       "      <th>female_pct</th>\n",
       "      <th>married_pct</th>\n",
       "    </tr>\n",
       "  </thead>\n",
       "  <tbody>\n",
       "  </tbody>\n",
       "</table>\n",
       "<p>0 rows × 24 columns</p>\n",
       "</div>"
      ],
      "text/plain": [
       "Empty DataFrame\n",
       "Columns: [year, unitid, inst_name, state_name, admission_rate, enrollement_rate, number_applied, number_admitted, number_enrolled_total, rev_tuition_fees_gross, rev_tuition_fees_net, rev_fed_approps_grants, rev_state_local_approps_grants, rev_other, rev_total_current, exp_instruc_total, exp_res_pub_serv_total, exp_acad_supp_total, exp_student_serv_total, exp_total_current, completers_150pct, completion_rate_150pct, female_pct, married_pct]\n",
       "Index: []\n",
       "\n",
       "[0 rows x 24 columns]"
      ]
     },
     "execution_count": 20,
     "metadata": {},
     "output_type": "execute_result"
    }
   ],
   "source": [
    "dfFin1"
   ]
  },
  {
   "cell_type": "code",
   "execution_count": null,
   "metadata": {},
   "outputs": [],
   "source": [
    "# DEFINE PLOTTING COLORS & LABELS FOR CONSISTENTLY GRAPHING SERIES\n",
    "seriez = {'number_applied': {'color': '#F44DDB', 'label': \"Number of student applications\"},\n",
    "            'number_admitted': {'color': '#CF1214', 'label': \"Number of students admitted\"},\n",
    "            'number_enrolled_total': {'color': '#0E3DEC', 'label': \"Number enrolled\"},\n",
    "            'admission_rate': {'color': '#CF1214', 'label': \"Admission rate (# applications/# admissions)\"},\n",
    "            'enrollement_rate': {'color': '#0E3DEC', 'label': \"Enrollment rate (# admissions/# enrolled\"},\n",
    "        }\n",
    "        "
   ]
  },
  {
   "cell_type": "code",
   "execution_count": null,
   "metadata": {},
   "outputs": [],
   "source": [
    "# Background 1 Callback\n",
    "active_tab='CumulativeAdmissions'\n",
    "selected=''\n",
    "\n",
    "# Set xlabel based on selection (useful for debuggins)\n",
    "xlab=[opt['label'] for opt in state_options_enrollment if opt['value']==selected]\n",
    "    \n",
    "    # Render the tab content based on value of 'active_tab' (other input, 'selected' used to crossfilter)\n",
    "if active_tab == \"CumulativeAdmissions\":\n",
    "    which_columns = ['number_applied','number_admitted','number_enrolled_total']\n",
    "    graph_title = 'Enrollment in College Fails to Keep Pace with Admissions'+\": \"+xlab[0]\n",
    "    ylabel = 'Total Number of Students'        \n",
    "    markdown_comments = \"\"\"Insert comments A, B, C\"\"\"\n",
    "    if len(selected)==0:\n",
    "        df_fig = df.groupby(['year'])[which_columns].aggregate([('Sum','sum'), ('Nschools','count')])\n",
    "    else:\n",
    "        df_fig = df[df.state_name==selected].groupby(['year'])[which_columns].aggregate([('Sum','sum'), ('Nschools','count')])\n",
    "    fig = go.Figure()\n",
    "    for col in which_columns:\n",
    "        fig.add_trace(\n",
    "            go.Scatter(x=df_fig.index, y=df_fig[col]['Sum'], \n",
    "                name = seriez[col]['label'], marker_color='rgba(152, 0, 0, .8)',\n",
    "                line = dict(color = seriez[col]['color']), opacity = 0.8))\n",
    "\n",
    "elif active_tab == \"RateAdmissions\":\n",
    "    which_columns = ['admission_rate','enrollement_rate']\n",
    "    graph_title = 'Admission and Enrollment Rates over time'+\": \"+xlab[0]\n",
    "    ylabel = 'Rate'\n",
    "    markdown_comments = \"\"\"Insert comments D, E\"\"\"\n",
    "    if len(selected)==0:\n",
    "        df_fig = df.groupby(['year'])[which_columns].aggregate([('Avg',np.mean), ('stdev',np.std), ('Nschools','count'), ('SEM', sem_btwn)])        \n",
    "    else:\n",
    "        df_fig = df[df.state_name==selected].groupby(['year'])[which_columns].aggregate([('Avg',np.mean), ('stdev',np.std), ('Nschools','count'), ('SEM', sem_btwn)])\n",
    "    fig = go.Figure()\n",
    "    for col in which_columns:\n",
    "        fig.add_trace(\n",
    "            go.Scatter(x=df_fig.index, y=df_fig[col]['Avg'], \n",
    "                name = seriez[col]['label'], marker_color='rgba(152, 0, 0, .8)',\n",
    "                line = dict(color = seriez[col]['color']), \n",
    "                error_y = dict(type='data', array=df_fig[col]['SEM'], visible=True),\n",
    "                opacity = 0.8))\n",
    "# Set options common to all traces with fig.update_traces\n",
    "fig.update_traces(marker_line_width=2, marker_size=10)\n",
    "fig.update_layout(title=graph_title,yaxis={'title': ylabel},xaxis={'title': xlab[0]}, \n",
    "                  yaxis_zeroline=True, xaxis_zeroline=True)\n",
    "fig.show()\n"
   ]
  },
  {
   "cell_type": "code",
   "execution_count": null,
   "metadata": {},
   "outputs": [],
   "source": [
    "selected=''\n",
    "xlab=[opt['label'] for opt in state_options_enrollment if opt['value']==selected]\n",
    "which_columns = ['admission_rate','enrollement_rate']\n",
    "graph_title = 'ALL Admission and Enrollment Rates over time'\n",
    "ylabel = 'Rate'\n",
    "markdown_comments = \"\"\"Insert comments F, G, H\"\"\"\n",
    "# Data for figure:\n",
    "if len(selected)==0:\n",
    "    df_fig = df.groupby(['year'])[which_columns].aggregate([('Avg',np.mean), ('stdev',np.std), ('Nschools','count'), ('SEM', sem_btwn)])\n",
    "else:\n",
    "    df_fig = df[df.state_name==selected].groupby(['year'])[which_columns].aggregate([('Avg',np.mean), ('stdev',np.std), ('Nschools','count'), ('SEM', sem_btwn)])\n",
    "\n",
    "fig = px.scatter(df_fig, x=df_fig.index, y=df_fig['admission_rate',]['Avg'], trendline=\"ols\")\n",
    "fig.update_layout(title= dict(text=graph_title), font=dict(size=16))\n",
    "fig.update_traces(marker=dict(color=seriez['admission_rate']['color']), line=dict(color=seriez['admission_rate']['color'], width=4, dash='dot'))\n",
    "\n",
    "res_tmp = px.get_trendline_results(fig)\n",
    "res_tmp = res_tmp.px_fit_results.iloc[0].summary().as_html()\n",
    "trend_AR = pd.read_html(res_tmp, header=0, index_col=0)[0]\n",
    "trend_AR.drop(['Date:','Time:'], axis=0, inplace=True)\n",
    "trend_AR.rename(columns={'y': 'admission_rate'},inplace=True)\n",
    "\n",
    "fig2 = px.scatter(df_fig, x=df_fig.index, y=df_fig['enrollement_rate']['Avg'], trendline=\"ols\")\n",
    "fig2.update_traces(marker=dict(color=seriez['enrollement_rate']['color']), line=dict(color=seriez['enrollement_rate']['color'], width=4, dash='dot'))\n",
    "res_tmp = px.get_trendline_results(fig2)\n",
    "res_tmp = res_tmp.px_fit_results.iloc[0].summary().as_html()\n",
    "trend_ER = pd.read_html(res_tmp, header=0, index_col=0)[0]\n",
    "trend_ER.rename(columns={'y': 'enrollment_rate', 'R-squared:':'R-squared'},inplace=True)\n",
    "#                          trend_ER.columns[2], trend_ER.columns[1]+trend_ER.columns[2]},inplace=True)\n",
    "trend_ER.drop(['Date:','Time:'], axis=0, inplace=True)\n",
    "# trend_ER.drop(['Date:','Time:'], axis=1, inplace=True)\n",
    "\n",
    "fig.add_trace(fig2.data[0])\n",
    "fig.add_trace(fig2.data[1])\n",
    "\n",
    "fig.update_traces(marker_line_width=2, marker_size=10)\n",
    "fig.update_layout(title=graph_title,yaxis={'title': ylabel},xaxis={'title': xlab[0]}, \n",
    "                  yaxis_zeroline=True, xaxis_zeroline=True)\n",
    "# fig.show()\n",
    "df_tab = pd.concat([trend_AR, trend_ER], axis=1)\n",
    "df_tab"
   ]
  },
  {
   "cell_type": "code",
   "execution_count": null,
   "metadata": {},
   "outputs": [],
   "source": []
  },
  {
   "cell_type": "code",
   "execution_count": null,
   "metadata": {},
   "outputs": [],
   "source": []
  },
  {
   "cell_type": "code",
   "execution_count": null,
   "metadata": {},
   "outputs": [],
   "source": []
  },
  {
   "cell_type": "code",
   "execution_count": null,
   "metadata": {},
   "outputs": [],
   "source": []
  },
  {
   "cell_type": "code",
   "execution_count": null,
   "metadata": {},
   "outputs": [],
   "source": []
  }
 ],
 "metadata": {
  "kernelspec": {
   "display_name": "Python 3",
   "language": "python",
   "name": "python3"
  },
  "language_info": {
   "codemirror_mode": {
    "name": "ipython",
    "version": 3
   },
   "file_extension": ".py",
   "mimetype": "text/x-python",
   "name": "python",
   "nbconvert_exporter": "python",
   "pygments_lexer": "ipython3",
   "version": "3.7.7"
  }
 },
 "nbformat": 4,
 "nbformat_minor": 2
}

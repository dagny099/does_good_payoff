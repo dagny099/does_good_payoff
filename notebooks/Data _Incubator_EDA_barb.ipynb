{
 "cells": [
  {
   "cell_type": "markdown",
   "metadata": {},
   "source": [
    "# EDA for Data Incubator project proposal, fall 2020\n",
    "\n",
    "*Draft 1: How does performance relate to compensation in publicly funded universities?\n",
    "\n",
    "*Draft 2: How to best model enrollement at public universities?"
   ]
  },
  {
   "attachments": {},
   "cell_type": "markdown",
   "metadata": {},
   "source": [
    "<hr>\n",
    "\n",
    "## Purpose of this Jupyter notebook is to work on visualizations for the project dashboard\n",
    "\n",
    "### Here's [my project dashboard](http://barb-data-inc.herokuapp.com/) showing last updated version of dashboard/report.\n",
    "\n",
    "Note: Here is a link to [Urban Institute's data explorer](https://educationdata.urban.org/data-explorer/colleges/) where I downloaded the data. The data explorer's sources include: College Scorecard and Integrated Postsecondary Education Data System.\n",
    "\n",
    "Link to [my document](https://github.com/dagny099/does_good_payoff/blob/master/docs/getting-started.rst) showing selection criteria and variables.\n",
    "\n"
   ]
  },
  {
   "cell_type": "code",
   "execution_count": 1,
   "metadata": {},
   "outputs": [],
   "source": [
    "# --------------------------------\n",
    "# IMPORT MODULES & LOAD DATA\n",
    "# --------------------------------\n",
    "import pandas as pd\n",
    "import numpy as np\n",
    "from datetime import datetime as dt\n",
    "\n",
    "# Import saved csv to dataframe:\n",
    "path2file=\"./data/interim/analyzeMe_n175.csv\"\n",
    "df = pd.read_csv(path2file, na_values=np.nan,#parse_dates=['year'], \n",
    "                   dtype={'unitid':'category', 'inst_name': 'category', 'state_name': 'category',\n",
    "                         'enrollement_rate': 'float64', 'female_pct': 'float64', 'married_pct': 'float64'})\n"
   ]
  },
  {
   "cell_type": "code",
   "execution_count": null,
   "metadata": {},
   "outputs": [],
   "source": [
    "# --------------------------------\n",
    "# Set figure aesthetics and labels:\n",
    "# --------------------------------\n",
    "seriez = {'number_applied': {'color': '#F44DDB', 'label': \"Number of student applications\"},\n",
    "            'number_admitted': {'color': '#CF1214', 'label': \"Number of students admitted\"},\n",
    "            'number_enrolled_total': {'color': '#0E3DEC', 'label': \"Number enrolled\"},\n",
    "            'admission_rate': {'color': '#CF1214', 'label': \"Admission rate (# applications/# admissions)\"},\n",
    "            'enrollement_rate': {'color': '#0E3DEC', 'label': \"Enrollment rate (# admissions/# enrolled\"},\n",
    "        }\n",
    "                            "
   ]
  },
  {
   "cell_type": "code",
   "execution_count": null,
   "metadata": {},
   "outputs": [],
   "source": [
    "# --------------------------------\n",
    "# HELPER FUNCTIONS => Move to own py file\n",
    "# --------------------------------"
   ]
  },
  {
   "cell_type": "code",
   "execution_count": null,
   "metadata": {},
   "outputs": [],
   "source": [
    "# Prepare list of dicts for STATE drop-down menu\n",
    "def make_options(df):\n",
    "    n=df.unitid.nunique()\n",
    "    state_options=[{'label': 'All '+str(n)+\" schools\", 'value':''}]\n",
    "    for state in df.state_name.unique():\n",
    "        n=df.groupby(['state_name'])['unitid'].nunique().loc[state]\n",
    "        state_options.append({'label': state+\" (\"+str(n)+\" schools)\", 'value': state })\n",
    "    return state_options\n",
    "\n",
    "# Standard error of mean distribution\n",
    "def sem_btwn(x):\n",
    "    return round(np.std(x)/np.sqrt(x.count()),3)\n",
    "\n",
    "# Create a summary of early yrs - late yrs:\n",
    "def tbl_early_late(df):\n",
    "    tbl = pd.concat([pd.DataFrame(df[0:2].apply(np.mean),columns=['Avg 2001-02']),\n",
    "            pd.DataFrame(df[-2:].apply(np.mean),columns=['Avg 2016-17'])],axis=1)\n",
    "    return round(pd.concat([tbl, \n",
    "            pd.DataFrame(df[0:2].apply(np.mean) - df[-2:].apply(np.mean), columns=['DIFF'])],axis=1),3)\n",
    "\n",
    "\n",
    "# Filter data for a balanced dataset w.r.t. measure-of-interest\n",
    "def get_school_data(df, which_columns=['number_enrolled_total'], earliestYr=0, nYrs=0):\n",
    "    # Use this to find the most common number of years for which data exists:\n",
    "    if nYrs==0:\n",
    "        nYrs = df.groupby(['unitid'])[which_columns[0]].count().value_counts().index[0]\n",
    "\n",
    "    # Filter years, if desired\n",
    "    df = df[df.year.dt.year>=earliestYr]\n",
    "\n",
    "    # Make a temp df with number of years w/ data available for key measure\n",
    "    tmpDf = df.groupby('unitid')[which_columns].count()\n",
    "\n",
    "    # Make a list of schools w/ data in all years, only include those:\n",
    "    unitids = tmpDf[tmpDf[which_columns[0]]==nYrs].index.to_list()\n",
    "    filt = df.apply(lambda row: row['unitid'] in unitids, axis=1)\n",
    "\n",
    "    # print(f\"These were the input parameters: {which_columns[0]}, {earliestYr}\")\n",
    "    # print(f\"Returning a data frame w: {df[filt].unitid.nunique()} schools data in, from {df[filt].year.min().year} thru {df[filt].year.max().year} (that makes {nYrs} yrs of data for {which_columns[0]})\")\n",
    "    \n",
    "    # Return a dataframe with balanced data for measure of interest\n",
    "    return df[filt]"
   ]
  },
  {
   "cell_type": "code",
   "execution_count": null,
   "metadata": {},
   "outputs": [],
   "source": [
    "# --------------------------------\n",
    "# Data Prune:\n",
    "# --------------------------------\n",
    "# Set 'year' as datetime \n",
    "df['year'] = df['year'].apply(pd.to_datetime, format='%Y')\n",
    "\n",
    "# Keep these columns (subset from CSV) as potential features for model:\n",
    "keepcols = ['admission_rate','enrollement_rate','number_applied','number_admitted','number_enrolled_total',\n",
    "        'rev_tuition_fees_gross', 'rev_tuition_fees_net','rev_total_current','rev_fed_approps_grants','rev_state_local_approps_grants','rev_other',\n",
    "       'exp_total_current','exp_instruc_total','exp_acad_supp_total','exp_student_serv_total','exp_res_pub_serv_total',\n",
    "        'completers_150pct','completion_rate_150pct','female_pct','married_pct',\n",
    "      'year','unitid','inst_name','state_name']\n",
    "\n",
    "dropcols = [c for c in df.columns if c not in keepcols]\n",
    "\n",
    "df.drop(dropcols,axis=1,inplace=True)\n",
    "\n",
    "# DATA FOR ENROLLMENT SECTION\n",
    "df_enroll  = get_school_data(df, ['enrollement_rate'], 2001)\n",
    "state_options_enrollment = make_options(df_enroll)\n",
    "\n",
    "# DATA FOR FINANCE SECTION\n",
    "# which_columns = ['rev_total_current','exp_total_current','rev_tuition_fees_gross','rev_tuition_fees_net','exp_instruc_total']\n",
    "dfFin1 = get_school_data(df, ['rev_total_current'])\n",
    "state_options_finance = make_options(dfFin1)"
   ]
  },
  {
   "cell_type": "code",
   "execution_count": null,
   "metadata": {},
   "outputs": [],
   "source": [
    "# --------------------------------\n",
    "# VISUALIZE DATA\n",
    "# --------------------------------\n"
   ]
  },
  {
   "cell_type": "code",
   "execution_count": null,
   "metadata": {},
   "outputs": [],
   "source": [
    "# Import visualization modules\n",
    "import plotly.express as px\n",
    "import plotly.graph_objs as go\n",
    "from plotly.offline import init_notebook_mode, iplot\n",
    "import chart_studio.plotly as py\n",
    "import cufflinks as cf\n",
    "import plotly\n",
    "\n",
    "import matplotlib.pyplot as plt\n",
    "%matplotlib inline"
   ]
  },
  {
   "cell_type": "code",
   "execution_count": null,
   "metadata": {},
   "outputs": [],
   "source": [
    "# --------------------------------\n",
    "# CUMULATIVE ADMISSIONS\n",
    "# --------------------------------\n"
   ]
  },
  {
   "cell_type": "code",
   "execution_count": null,
   "metadata": {},
   "outputs": [],
   "source": [
    "# --------------------------------\n",
    "# ENROLLMENT OVER TIME\n",
    "# --------------------------------\n"
   ]
  },
  {
   "cell_type": "code",
   "execution_count": null,
   "metadata": {},
   "outputs": [],
   "source": [
    "# --------------------------------\n",
    "# MODEL ENROLLMENT\n",
    "# --------------------------------\n"
   ]
  },
  {
   "cell_type": "code",
   "execution_count": null,
   "metadata": {},
   "outputs": [],
   "source": [
    "# --------------------------------\n",
    "# FINANCE STUFF\n",
    "# --------------------------------\n"
   ]
  }
 ],
 "metadata": {
  "kernelspec": {
   "display_name": "Python 3",
   "language": "python",
   "name": "python3"
  },
  "language_info": {
   "codemirror_mode": {
    "name": "ipython",
    "version": 3
   },
   "file_extension": ".py",
   "mimetype": "text/x-python",
   "name": "python",
   "nbconvert_exporter": "python",
   "pygments_lexer": "ipython3",
   "version": "3.7.7"
  }
 },
 "nbformat": 4,
 "nbformat_minor": 2
}

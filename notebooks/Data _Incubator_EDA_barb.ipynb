{
 "cells": [
  {
   "cell_type": "markdown",
   "metadata": {},
   "source": [
    "# EDA for Data Incubator project proposal, fall 2020\n",
    "\n",
    "## How does performance relate to compensation in publicly funded universities?"
   ]
  },
  {
   "cell_type": "markdown",
   "metadata": {},
   "source": [
    "### -1- Get data\n",
    "\n",
    "#### Start with the raw csv file downloaded from website\n",
    "\n",
    "Link to [Urban Institute's data explorer](https://educationdata.urban.org/data-explorer/colleges/) (super cool). \n",
    "\n",
    "Link to [my document](https://github.com/dagny099/does_good_payoff/blob/master/docs/getting-started.rst) showing selection criteria and variables.\n",
    "\n",
    "*Rounds of downloads* <br>\n",
    "Rd_1: TX, FL         ... Approximate results: 188k records from 838 institutions <br>\n",
    "Rd_2: OR, AZ, MI, OH ... Approximate results: 169k records from 752 institutions <br>\n",
    "Rd_3: NY, GA, MN     ... Approximate results: 170k records from 755 institutions <br>\n",
    "Rd_4: CA             ... Approximate results: 164k records from 729 institutions <br>\n",
    "Rd_5: VA, PA, IN, WI ... Approximate results: 178k records from 791 institutions <br>\n",
    "\n",
    "Note: There appears to be a query limit of around 200k records, hence multiple rounds of downloads. \n",
    "\n",
    "Rationale behind states chosen:\n",
    "- Question of interest is geared towards public funding and higher education outcomes\n",
    "- Wikipedia lists the Top 10 university campuses by enrollment, by year\n",
    "- Rd 1. I chose to include the states where those campuses are located (based on [2018–19 academic year]{https://en.wikipedia.org/wiki/List_of_United_States_public_university_campuses_by_enrollment#2018%E2%80%9319_enrollment})\n",
    "- Rd 2-4. Include more geographic diversity by adding CA, NY, OR, MI\n",
    "- Rd 5. Include any state with a university in the top-10 since 2009, added IN, PA\n",
    "\n",
    "Manually summed size of aggregated csv files: **70MB**"
   ]
  },
  {
   "cell_type": "code",
   "execution_count": null,
   "metadata": {},
   "outputs": [],
   "source": [
    "# Use bash to combine all files with same columns from multiple downloads:\n",
    " \n",
    "!(head -1 ../../EducationDataPortal_TX_FL_years_after_entry.csv && tail -n +2 -q ../../EducationDataPortal*_years_after_entry.csv ) > ../../EducationDataPortal_years_after_entry_ALL.csv\n",
    "!(head -1 ../../EducationDataPortal_TX_FL_level_of_study.csv && tail -n +2 -q ../../EducationDataPortal*_level_of_study.csv ) > ../../EducationDataPortal_level_of_study_ALL.csv\n",
    "!(head -1 ../../EducationDataPortal_TX_FL_institutions.csv && tail -n +2 -q ../../EducationDataPortal*_institutions.csv ) > ../../EducationDataPortal_institutions_ALL.csv\n",
    "\n",
    "!mv ../../EducationDataPortal_years_after_entry_ALL.csv ../data/raw/higherEd/usa/\n",
    "!mv ../../EducationDataPortal_level_of_study_ALL.csv ../data/raw/higherEd/usa/\n",
    "!mv ../../EducationDataPortal_institutions_ALL.csv ../data/raw/higherEd/usa/\n",
    "\n"
   ]
  },
  {
   "cell_type": "code",
   "execution_count": null,
   "metadata": {},
   "outputs": [],
   "source": [
    "import pandas as pd\n",
    "import numpy as np\n",
    "%matplotlib inline\n",
    "\n",
    "pathDir = '../data/raw/higherEd/usa/'\n",
    "filename_inst = 'EducationDataPortal_institutions_ALL.csv'\n",
    "filename_los = 'EducationDataPortal_level_of_study_ALL.csv'\n",
    "filename_yae = 'EducationDataPortal_years_after_entry_ALL.csv'\n",
    "\n",
    "# Read downloaded csv files\n",
    "tmp = pd.read_csv(pathDir+filename_inst)\n",
    "tmp_los = pd.read_csv(pathDir+filename_los)\n",
    "tmp_yae = pd.read_csv(pathDir+filename_yae)"
   ]
  },
  {
   "cell_type": "markdown",
   "metadata": {},
   "source": [
    "### -2- Reduce data, Clean data"
   ]
  },
  {
   "cell_type": "code",
   "execution_count": null,
   "metadata": {},
   "outputs": [],
   "source": [
    "# I know I want to look at Degree-granting institutions but let's see what other inst_category values there are:\n",
    "want='Degree-granting, primarily baccalaureate or above'\n",
    "print(f\"There are {tmp[tmp.inst_category==want].shape[0]} records from {want} institutions\")\n",
    "print(f\"# which is {round(tmp[tmp.inst_category==want].shape[0]/tmp.shape[0],2)} of all {tmp.shape[0]} records\\n\")\n",
    "\n",
    "print(tmp.inst_category.value_counts())\n"
   ]
  },
  {
   "cell_type": "code",
   "execution_count": null,
   "metadata": {},
   "outputs": [],
   "source": [
    "# Let's look at the size of those institutions:\n",
    "tmp[tmp.inst_category==want]['inst_size'].value_counts()"
   ]
  },
  {
   "cell_type": "code",
   "execution_count": null,
   "metadata": {},
   "outputs": [],
   "source": [
    "# How many are institutions with 5K or above (that's 3 categories):\n",
    "sizeFilt=tmp.apply(lambda row: row['inst_size'] in ['5,000-9,999','10,000-19,999','20,000 and above'], axis=1)"
   ]
  },
  {
   "cell_type": "code",
   "execution_count": null,
   "metadata": {},
   "outputs": [],
   "source": [
    "tmp[sizeFilt].groupby(['state_name','year'])['number_enrolled_total'].count()"
   ]
  },
  {
   "cell_type": "code",
   "execution_count": null,
   "metadata": {},
   "outputs": [],
   "source": [
    "tmp[sizeFilt].pivot(index='unitid',columns='year',values='number_enrolled_total')"
   ]
  },
  {
   "cell_type": "code",
   "execution_count": null,
   "metadata": {},
   "outputs": [],
   "source": [
    "# ------ REDUCE ROWS TO SUIT QUESTIONS OF INTEREST ------\n",
    "criteria = dict({'inst_category':'Degree-granting, primarily baccalaureate or above',\n",
    "                 'inst_size':['20,000 and above','10,000-19,999']})\n",
    "\n",
    "univData = tmp[(tmp['inst_category']==criteria['inst_category'])] # & (tmp['inst_size']==criteria['inst_size'])]\n",
    "univData = univData[(univData.inst_size=='20,000 and above')|(univData.inst_size=='10,000-19,999')]\n",
    "univData['inst_category'].value_counts()\n",
    "print(f\"Reduced data to suit questions-of-interest:\")\n",
    "print(f\"ORIG: {tmp.shape[0]} records from {tmp.unitid.nunique()} institutions\\nto\")\n",
    "print(f\"FILTERED: {univData.shape[0]} records from {univData.unitid.nunique()} institutions\")\n",
    "print(f\"Data from {univData.state_name.nunique()} states\")\n",
    "print(f\"\\nThese were the criteria applied:\")\n",
    "print(criteria)"
   ]
  },
  {
   "cell_type": "code",
   "execution_count": null,
   "metadata": {},
   "outputs": [],
   "source": [
    "# Which institutions have at least 8 years of data? => Generate a list of schools (unitid)\n",
    "# Enrollment data, e.g. \"number_enrolled_total\"\n",
    "nYrs_ts = 8\n",
    "\n",
    "# using pivot -- I don't think I did this correctly ...\n",
    "\n",
    "# df_AvgEnrollment = pd.pivot_table(univData,index=['state_name','unitid'],values='number_enrolled_total',\\\n",
    "#                aggfunc=({np.mean,'count'})).sort_values(['state_name','mean'],ascending=False)\n",
    "# df_AvgEnrollment = df_AvgEnrollment[df_AvgEnrollment['count']>=nYrs_ts]\n",
    "\n",
    "Use_These_Univ = univData.reset_index().unitid.unique()"
   ]
  },
  {
   "cell_type": "code",
   "execution_count": null,
   "metadata": {},
   "outputs": [],
   "source": [
    "# Keep columns with at least 80% non-null values\n",
    "keepThresh = .80\n",
    "keepCols = [c for c in dataBigUniv.columns if dataBigUniv[c].isnull().sum() < (dataBigUniv.shape[0]*keepThresh)]\n",
    "\n",
    "print(f'Dropped these columns for missing more than {100*keepThresh}% values:')\n",
    "print([col for col in dataBigUniv.columns if col not in keepCols])"
   ]
  },
  {
   "cell_type": "code",
   "execution_count": null,
   "metadata": {},
   "outputs": [],
   "source": [
    "# Filter all data files to only include institutions that meet criteria\n",
    "tmp['keepRow']=tmp['unitid'].apply(lambda x: True if x in Use_These_Univ else False)\n",
    "dataInst = tmp[tmp['keepRow']==True]\n",
    "dataInst.drop('keepRow',axis=1,inplace=True)\n",
    "\n",
    "tmp_los['keepRow']=tmp_los['unitid'].apply(lambda x: True if x in Use_These_Univ else False)\n",
    "dataLOS = tmp_los[tmp_los['keepRow']==True]\n",
    "dataLOS.drop('keepRow',axis=1,inplace=True)\n",
    "\n",
    "tmp_yae['keepRow']=tmp_yae['unitid'].apply(lambda x: True if x in Use_These_Univ else False)\n",
    "dataYAE = tmp_yae[tmp_yae['keepRow']==True]\n",
    "dataYAE.drop('keepRow',axis=1,inplace=True)\n"
   ]
  },
  {
   "cell_type": "code",
   "execution_count": null,
   "metadata": {},
   "outputs": [],
   "source": [
    "# Merge data sets  (would definitely create SQL tables for this)\n",
    "data = pd.merge(dataInst, dataYAE, how ='left', on =['unitid','year','inst_name','state_name'])\n",
    "data = pd.merge(data, dataLOS, how ='left', on =['unitid','year','inst_name','state_name'])\n",
    "data.describe(include='all')\n"
   ]
  },
  {
   "cell_type": "code",
   "execution_count": null,
   "metadata": {},
   "outputs": [],
   "source": [
    "# KEEP AN EXCEL FILE WITH ALL DATA\n",
    "# why? I need to double check that what I'm doing in Python is correct\n",
    "\n",
    "data.to_csv('../data/processed/'+'Merged_Univ_DataMore3.csv')\n"
   ]
  },
  {
   "cell_type": "code",
   "execution_count": null,
   "metadata": {},
   "outputs": [],
   "source": [
    "# CHANGE SOME DATATYPES:\n",
    "# Change dtype 'year' to DATETIME64\n",
    "# Change dtype 'unitid', 'inst_name', 'state_name' as CATEGORY\n",
    "\n",
    "dataInst['year'] = dataInst['year'].apply(pd.to_datetime, format='%Y')\n",
    "\n"
   ]
  },
  {
   "cell_type": "code",
   "execution_count": null,
   "metadata": {},
   "outputs": [],
   "source": [
    "# Add columns for AdmissionRate and EnrollmentRate\n",
    "univData['admission_rate']=univData['number_admitted']/univData['number_applied']\n",
    "univData['enrollment_rate']=univData['number_enrolled_total']/univData['number_admitted']\n"
   ]
  },
  {
   "cell_type": "code",
   "execution_count": null,
   "metadata": {},
   "outputs": [],
   "source": [
    "pathDir = '../data/processed/'\n",
    "filename = 'EducationDataPortal_HigherEdMore.xlsx' #This started as an empty excel file with data dictionary\n",
    "\n",
    "\n",
    "# Read excel sheet\n",
    "whichSheet = 'Data_by_Institution'\n",
    "df = pd.read_excel(pathDir+filename, sheet_name=whichSheet, \n",
    "                   usecols=keepCols, na_values=np.nan, verbose=True,\n",
    "                   dtype={'unitid':'category', 'inst_name': 'category', 'state_name': 'category'},\n",
    "                   parse_dates=['year'])\n",
    "\n",
    "whichSheet = 'Breakdown_years_after_entry'\n",
    "df_yae = pd.read_excel(pathDir+filename, sheet_name=whichSheet, \n",
    "                   na_values=np.nan, verbose=True,\n",
    "                   dtype={'unitid':'category', 'inst_name': 'category', 'state_name': 'category'},\n",
    "                   parse_dates=['year'])\n",
    "\n",
    "whichSheet = 'Breakdown_level_of_study'\n",
    "df_los = pd.read_excel(pathDir+filename, sheet_name=whichSheet, \n",
    "                   na_values=np.nan, verbose=True,\n",
    "                   dtype={'unitid':'category', 'inst_name': 'category', 'state_name': 'category'},\n",
    "                   parse_dates=['year'])\n"
   ]
  },
  {
   "cell_type": "code",
   "execution_count": null,
   "metadata": {},
   "outputs": [],
   "source": [
    "# Merge data sets  (would definitely create SQL tables for this)\n",
    "data = pd.merge(df, df_yae, how ='inner', on =['unitid','year','inst_name','state_name'])\n",
    "data = pd.merge(data, df_los, how ='inner', on =['unitid','year','inst_name','state_name'])\n",
    "data.to_csv('../data/processed/'+'Merged_Univ_Data.csv')\n",
    "data.describe(include='all')\n"
   ]
  },
  {
   "cell_type": "markdown",
   "metadata": {},
   "source": [
    "### -3- Compute some stats, Group data"
   ]
  },
  {
   "cell_type": "code",
   "execution_count": null,
   "metadata": {},
   "outputs": [],
   "source": [
    "# Add column for admission_rate\n",
    "data['admission_rate'] = data['number_admitted'] /  data['number_applied']\n"
   ]
  },
  {
   "cell_type": "code",
   "execution_count": null,
   "metadata": {},
   "outputs": [],
   "source": [
    "# Enrollment & Admissions Trends\n",
    "cols = ['inst_name','state_name','number_applied','number_admitted','number_enrolled_total','admission_rate']\n",
    "df_Enrollment = pd.DataFrame(data.groupby(['state_name','inst_name','year'])[cols].mean().to_records()) \n"
   ]
  },
  {
   "cell_type": "code",
   "execution_count": null,
   "metadata": {},
   "outputs": [],
   "source": [
    "# Graduation Trends\n",
    "cols = ['inst_name','state_name','completers_150pct','completion_rate_150pct']\n",
    "df_Grad = pd.DataFrame(data.groupby(['state_name','inst_name','year'])[cols].mean().to_records()) \n"
   ]
  },
  {
   "cell_type": "code",
   "execution_count": null,
   "metadata": {},
   "outputs": [],
   "source": [
    "# Funding Trends, Revenue\n",
    "cols = ['inst_name','state_name','rev_tuition_fees_net','rev_tuition_fees_gross']\n",
    "df_Rev = pd.DataFrame(data.groupby(['state_name','inst_name','year'])[cols].mean().to_records()) "
   ]
  },
  {
   "cell_type": "code",
   "execution_count": null,
   "metadata": {},
   "outputs": [],
   "source": [
    "# Funding Trends, Expenditures\n",
    "cols = ['inst_name','state_name','exp_total_current','exp_total_salaries','exp_total_benefits']\n",
    "df_Exp = pd.DataFrame(data.groupby(['state_name','inst_name','year'])[cols].mean().to_records()) \n"
   ]
  },
  {
   "cell_type": "code",
   "execution_count": null,
   "metadata": {},
   "outputs": [],
   "source": [
    "# Earnings Trends\n",
    "# cols = ['inst_name','state_name','earnings_mean','count_working','count_not_working']\n",
    "# df_Earnings = pd.DataFrame(data.groupby(['state_name','inst_name','year'])[cols].mean().to_records()) "
   ]
  },
  {
   "cell_type": "markdown",
   "metadata": {},
   "source": [
    "### -5- Have a look at the data, visually and export table"
   ]
  },
  {
   "cell_type": "code",
   "execution_count": null,
   "metadata": {},
   "outputs": [],
   "source": [
    "import matplotlib.pyplot as plt\n",
    "import seaborn as sns\n",
    "\n",
    "figpathDir = '../src/visualization/'"
   ]
  },
  {
   "cell_type": "code",
   "execution_count": null,
   "metadata": {},
   "outputs": [],
   "source": [
    "# PAIR-PLOT for ENROLLMENT TRENDS: \n",
    "DF = df_Enrollment\n",
    "sns.set_style('white')\n",
    "\n",
    "pair_plot = sns.pairplot(DF, hue='year');\n",
    "pair_plot.savefig(figpathDir+'Enrollment_pair_plot_by_YEAR.png')  \n",
    "\n",
    "pair_plot = sns.pairplot(DF, hue='state_name');\n",
    "pair_plot.savefig(figpathDir+'Enrollment_pair_plot_by_STATE.png')  \n"
   ]
  },
  {
   "cell_type": "code",
   "execution_count": null,
   "metadata": {},
   "outputs": [],
   "source": [
    "# PAIR-PLOT for GRADUATION TRENDS: \n",
    "DF = df_Grad\n",
    "sns.set_style('white')\n",
    "\n",
    "pair_plot = sns.pairplot(DF, hue='year');\n",
    "pair_plot.savefig(figpathDir+'Grad_pair_plot_by_YEAR.png')  \n",
    "\n",
    "pair_plot = sns.pairplot(DF, hue='state_name');\n",
    "pair_plot.savefig(figpathDir+'Grad_pair_plot_by_STATE.png')  \n"
   ]
  },
  {
   "cell_type": "code",
   "execution_count": null,
   "metadata": {},
   "outputs": [],
   "source": [
    "# PAIR-PLOT for Funding-Revenue TRENDS: \n",
    "DF = df_Rev\n",
    "sns.set_style('white')\n",
    "\n",
    "pair_plot = sns.pairplot(DF, hue='year');\n",
    "pair_plot.savefig(figpathDir+'Fund_Rev_pair_plot_by_YEAR.png')  \n",
    "\n",
    "pair_plot = sns.pairplot(DF, hue='state_name');\n",
    "pair_plot.savefig(figpathDir+'Fund_Rev_pair_plot_by_STATE.png')  \n"
   ]
  },
  {
   "cell_type": "code",
   "execution_count": null,
   "metadata": {},
   "outputs": [],
   "source": [
    "# PAIR-PLOT for Funding-Expenditures TRENDS: \n",
    "DF = df_Exp\n",
    "sns.set_style('white')\n",
    "\n",
    "pair_plot = sns.pairplot(DF, hue='year');\n",
    "pair_plot.savefig(figpathDir+'Fund_Exp_pair_plot_by_YEAR.png')  \n",
    "\n",
    "pair_plot = sns.pairplot(DF, hue='state_name');\n",
    "pair_plot.savefig(figpathDir+'Fund_Exp_pair_plot_by_STATE.png')  \n"
   ]
  },
  {
   "cell_type": "markdown",
   "metadata": {},
   "source": [
    "#### Time series of admission_rate"
   ]
  },
  {
   "cell_type": "code",
   "execution_count": null,
   "metadata": {},
   "outputs": [],
   "source": [
    "sns.set()\n",
    "pvDf_admission_rate = df_Enrollment['']\n",
    "ad_ts = pvDf_admission_rate.plot(figsize=(12,8),lw=2,title='Admission Rate at Public Universities over Time')\n",
    "ad_ts.legend(loc='center left', bbox_to_anchor=(1.25, 0.5), ncol=1)\n",
    "plt.ylabel('number admissions / number applicants');"
   ]
  },
  {
   "cell_type": "code",
   "execution_count": null,
   "metadata": {},
   "outputs": [],
   "source": [
    "pd.pivot(df_Enrollment"
   ]
  },
  {
   "cell_type": "code",
   "execution_count": null,
   "metadata": {},
   "outputs": [],
   "source": [
    "#### Boxplots\n",
    "sns.boxplot()"
   ]
  },
  {
   "cell_type": "markdown",
   "metadata": {},
   "source": []
  },
  {
   "cell_type": "code",
   "execution_count": 2,
   "metadata": {},
   "outputs": [],
   "source": [
    "# --------------------------------\n",
    "# IMPORT MODULES\n",
    "# --------------------------------\n",
    "import pandas as pd\n",
    "import numpy as np\n",
    "from datetime import datetime as dt\n",
    "\n",
    "import dash\n",
    "import dash_core_components as dcc\n",
    "import dash_html_components as html\n",
    "from dash.dependencies import Input, Output\n",
    "\n",
    "# Prune as necessary:\n",
    "import plotly.graph_objs as go\n",
    "from plotly.offline import init_notebook_mode, iplot\n",
    "import chart_studio.plotly as py\n",
    "import plotly\n",
    "import cufflinks as cf\n",
    "\n",
    "import matplotlib.pyplot as plt\n",
    "%matplotlib inline"
   ]
  },
  {
   "cell_type": "code",
   "execution_count": 3,
   "metadata": {},
   "outputs": [],
   "source": [
    "# Create a variable, options, with a list of dicts w/ keys {'label': , 'value'}\n",
    "def make_options(df):\n",
    "    n=df.unitid.nunique()\n",
    "    state_options=[{'label': 'All '+str(n)+\" schools\", 'value':''}]\n",
    "    for state in df.state_name.unique():\n",
    "        n=df.groupby(['state_name'])['number_applied'].count().loc[state]\n",
    "        state_options.append({'label': state+\" (\"+str(n)+\" schools)\", 'value': state })\n",
    "    return state_options\n"
   ]
  },
  {
   "cell_type": "code",
   "execution_count": null,
   "metadata": {},
   "outputs": [],
   "source": [
    "# Return \n",
    "def sem_btwn(x):\n",
    "    return round(np.std(x)/np.sqrt(x.count()),3)\n"
   ]
  },
  {
   "cell_type": "code",
   "execution_count": 4,
   "metadata": {},
   "outputs": [],
   "source": [
    "# --------------------------------\n",
    "# Acquire the Data:\n",
    "# --------------------------------\n",
    "path2file=\"/Users/bhs/PYTHON-STUFF/DataIncubator/does_good_payoff/data/interim/analyzeMe_n175.csv\"\n",
    "df = pd.read_csv(path2file, na_values=np.nan,#parse_dates=['year'], \n",
    "                   dtype={'unitid':'category', 'inst_name': 'category', 'state_name': 'category',\n",
    "                         'enrollement_rate': 'float64', 'female_pct': 'float64', 'married_pct': 'float64'})\n",
    "\n",
    "# --------------------------------\n",
    "# Data Prune:\n",
    "# --------------------------------\n",
    "# Drop years earlier than 2001 (availability of key measures)\n",
    "df = df[df.year>=2001];\n",
    "\n",
    "# Set 'year' as datetime \n",
    "df['year'] = df['year'].apply(pd.to_datetime, format='%Y')\n",
    "\n",
    "# Keep these columns (subset from CSV) as potential features for model:\n",
    "keepcols = ['admission_rate','enrollement_rate','number_applied','number_admitted','number_enrolled_total',\n",
    "        'rev_tuition_fees_gross', 'rev_tuition_fees_net','rev_total_current','rev_fed_approps_grants','rev_state_local_approps_grants','rev_other',\n",
    "       'exp_total_current','exp_instruc_total','exp_acad_supp_total','exp_student_serv_total','exp_res_pub_serv_total',\n",
    "        'completers_150pct','completion_rate_150pct','female_pct','married_pct',\n",
    "      'year','unitid','inst_name','state_name']\n",
    "\n",
    "dropcols = [c for c in df.columns if c not in keepcols]\n",
    "\n",
    "df.drop(dropcols,axis=1,inplace=True)\n"
   ]
  },
  {
   "cell_type": "code",
   "execution_count": 5,
   "metadata": {},
   "outputs": [],
   "source": [
    "# --------------------------------\n",
    "# GOAL: Want a Balanced dataset w XYZ schools over 17 yrs \n",
    "# --------------------------------\n",
    "\n",
    "# ENROLLMENT SECTION\n",
    "nYrs = 17\n",
    "which_columns = ['enrollement_rate']\n",
    "tmpDf = df.groupby('unitid')[which_columns].count()\n",
    "# Identify schools with data in all years, only include those:\n",
    "unitids = tmpDf[tmpDf[which_columns[0]]==nYrs].index.to_list()\n",
    "filt = df.apply(lambda row: row['unitid'] in unitids, axis=1)\n",
    "# Make a DF & list of options for the dropdown menu - ENROLLMENT SECTION\n",
    "df = df[filt]  \n",
    "state_options_enrollment = make_options(df)\n",
    "\n",
    "# FINANCE SECTION\n",
    "#lose 9 out of the 170+ schools who didn't have revenue data\n",
    "# After dropping those schools, all measures have same # records \n",
    "#   EXCEPT there are 18 records missing rev_tuition_fees_net  (go back and fill with avg)\n",
    "nYrs= 17\n",
    "which_columns = ['rev_total_current','exp_total_current','rev_tuition_fees_gross','rev_tuition_fees_net','exp_instruc_total']\n",
    "tmpDf = df.groupby(['unitid'])[which_columns].count()\n",
    "# Identify schools with data in all years, only include those:\n",
    "unitids = tmpDf[tmpDf[which_columns[0]]==nYrs].index.to_list()\n",
    "filt = df.apply(lambda row: row['unitid'] in unitids, axis=1)\n",
    "dfFin1 = df[filt]\n",
    "state_options_finance = make_options(dfFin1)"
   ]
  },
  {
   "cell_type": "code",
   "execution_count": 6,
   "metadata": {},
   "outputs": [],
   "source": [
    "# DEFINE PLOTTING COLORS & LABELS FOR CONSISTENTLY GRAPHING SERIES\n",
    "seriez = {'number_applied': {'color': '#F44DDB', 'label': \"Number of student applications\"},\n",
    "            'number_admitted': {'color': '#CF1214', 'label': \"Number of students admitted\"},\n",
    "            'number_enrolled_total': {'color': '#0E3DEC', 'label': \"Number enrolled\"},\n",
    "            'admission_rate': {'color': '#CF1214', 'label': \"Admission rate (# applications/# admissions)\"},\n",
    "            'enrollement_rate': {'color': '#0E3DEC', 'label': \"Enrollment rate (# admissions/# enrolled\"},\n",
    "        }\n",
    "        "
   ]
  },
  {
   "cell_type": "code",
   "execution_count": 55,
   "metadata": {},
   "outputs": [
    {
     "data": {
      "application/vnd.plotly.v1+json": {
       "config": {
        "plotlyServerURL": "https://plot.ly"
       },
       "data": [
        {
         "line": {
          "color": "#F44DDB"
         },
         "marker": {
          "color": "rgba(152, 0, 0, .8)",
          "line": {
           "width": 2
          },
          "size": 10
         },
         "mode": "lines+markers",
         "name": "Number of student applications",
         "opacity": 0.8,
         "type": "scatter",
         "x": [
          "2001-01-01T00:00:00",
          "2002-01-01T00:00:00",
          "2003-01-01T00:00:00",
          "2004-01-01T00:00:00",
          "2005-01-01T00:00:00",
          "2006-01-01T00:00:00",
          "2007-01-01T00:00:00",
          "2008-01-01T00:00:00",
          "2009-01-01T00:00:00",
          "2010-01-01T00:00:00",
          "2011-01-01T00:00:00",
          "2012-01-01T00:00:00",
          "2013-01-01T00:00:00",
          "2014-01-01T00:00:00",
          "2015-01-01T00:00:00",
          "2016-01-01T00:00:00",
          "2017-01-01T00:00:00"
         ],
         "y": [
          1730847,
          1826774,
          1946250,
          2018482,
          2129522,
          2262712,
          2445396,
          2620714,
          2799269,
          2913539,
          3045087,
          3131811,
          3298311,
          3534975,
          3642120,
          3785536,
          3924096
         ]
        },
        {
         "line": {
          "color": "#CF1214"
         },
         "marker": {
          "color": "rgba(152, 0, 0, .8)",
          "line": {
           "width": 2
          },
          "size": 10
         },
         "mode": "lines+markers",
         "name": "Number of students admitted",
         "opacity": 0.8,
         "type": "scatter",
         "x": [
          "2001-01-01T00:00:00",
          "2002-01-01T00:00:00",
          "2003-01-01T00:00:00",
          "2004-01-01T00:00:00",
          "2005-01-01T00:00:00",
          "2006-01-01T00:00:00",
          "2007-01-01T00:00:00",
          "2008-01-01T00:00:00",
          "2009-01-01T00:00:00",
          "2010-01-01T00:00:00",
          "2011-01-01T00:00:00",
          "2012-01-01T00:00:00",
          "2013-01-01T00:00:00",
          "2014-01-01T00:00:00",
          "2015-01-01T00:00:00",
          "2016-01-01T00:00:00",
          "2017-01-01T00:00:00"
         ],
         "y": [
          1066504,
          1106011,
          1156971,
          1189970,
          1242142,
          1307319,
          1398352,
          1446276,
          1517961,
          1555803,
          1572822,
          1644161,
          1710916,
          1815060,
          1841608,
          1933978,
          1986593
         ]
        },
        {
         "line": {
          "color": "#0E3DEC"
         },
         "marker": {
          "color": "rgba(152, 0, 0, .8)",
          "line": {
           "width": 2
          },
          "size": 10
         },
         "mode": "lines+markers",
         "name": "Number enrolled",
         "opacity": 0.8,
         "type": "scatter",
         "x": [
          "2001-01-01T00:00:00",
          "2002-01-01T00:00:00",
          "2003-01-01T00:00:00",
          "2004-01-01T00:00:00",
          "2005-01-01T00:00:00",
          "2006-01-01T00:00:00",
          "2007-01-01T00:00:00",
          "2008-01-01T00:00:00",
          "2009-01-01T00:00:00",
          "2010-01-01T00:00:00",
          "2011-01-01T00:00:00",
          "2012-01-01T00:00:00",
          "2013-01-01T00:00:00",
          "2014-01-01T00:00:00",
          "2015-01-01T00:00:00",
          "2016-01-01T00:00:00",
          "2017-01-01T00:00:00"
         ],
         "y": [
          417773,
          428975,
          436719,
          439826,
          447040,
          462130,
          474098,
          480720,
          491909,
          485549,
          485252,
          492297,
          499659,
          517905,
          525102,
          534664,
          545925
         ]
        }
       ],
       "layout": {
        "template": {
         "data": {
          "bar": [
           {
            "error_x": {
             "color": "#2a3f5f"
            },
            "error_y": {
             "color": "#2a3f5f"
            },
            "marker": {
             "line": {
              "color": "#E5ECF6",
              "width": 0.5
             }
            },
            "type": "bar"
           }
          ],
          "barpolar": [
           {
            "marker": {
             "line": {
              "color": "#E5ECF6",
              "width": 0.5
             }
            },
            "type": "barpolar"
           }
          ],
          "carpet": [
           {
            "aaxis": {
             "endlinecolor": "#2a3f5f",
             "gridcolor": "white",
             "linecolor": "white",
             "minorgridcolor": "white",
             "startlinecolor": "#2a3f5f"
            },
            "baxis": {
             "endlinecolor": "#2a3f5f",
             "gridcolor": "white",
             "linecolor": "white",
             "minorgridcolor": "white",
             "startlinecolor": "#2a3f5f"
            },
            "type": "carpet"
           }
          ],
          "choropleth": [
           {
            "colorbar": {
             "outlinewidth": 0,
             "ticks": ""
            },
            "type": "choropleth"
           }
          ],
          "contour": [
           {
            "colorbar": {
             "outlinewidth": 0,
             "ticks": ""
            },
            "colorscale": [
             [
              0,
              "#0d0887"
             ],
             [
              0.1111111111111111,
              "#46039f"
             ],
             [
              0.2222222222222222,
              "#7201a8"
             ],
             [
              0.3333333333333333,
              "#9c179e"
             ],
             [
              0.4444444444444444,
              "#bd3786"
             ],
             [
              0.5555555555555556,
              "#d8576b"
             ],
             [
              0.6666666666666666,
              "#ed7953"
             ],
             [
              0.7777777777777778,
              "#fb9f3a"
             ],
             [
              0.8888888888888888,
              "#fdca26"
             ],
             [
              1,
              "#f0f921"
             ]
            ],
            "type": "contour"
           }
          ],
          "contourcarpet": [
           {
            "colorbar": {
             "outlinewidth": 0,
             "ticks": ""
            },
            "type": "contourcarpet"
           }
          ],
          "heatmap": [
           {
            "colorbar": {
             "outlinewidth": 0,
             "ticks": ""
            },
            "colorscale": [
             [
              0,
              "#0d0887"
             ],
             [
              0.1111111111111111,
              "#46039f"
             ],
             [
              0.2222222222222222,
              "#7201a8"
             ],
             [
              0.3333333333333333,
              "#9c179e"
             ],
             [
              0.4444444444444444,
              "#bd3786"
             ],
             [
              0.5555555555555556,
              "#d8576b"
             ],
             [
              0.6666666666666666,
              "#ed7953"
             ],
             [
              0.7777777777777778,
              "#fb9f3a"
             ],
             [
              0.8888888888888888,
              "#fdca26"
             ],
             [
              1,
              "#f0f921"
             ]
            ],
            "type": "heatmap"
           }
          ],
          "heatmapgl": [
           {
            "colorbar": {
             "outlinewidth": 0,
             "ticks": ""
            },
            "colorscale": [
             [
              0,
              "#0d0887"
             ],
             [
              0.1111111111111111,
              "#46039f"
             ],
             [
              0.2222222222222222,
              "#7201a8"
             ],
             [
              0.3333333333333333,
              "#9c179e"
             ],
             [
              0.4444444444444444,
              "#bd3786"
             ],
             [
              0.5555555555555556,
              "#d8576b"
             ],
             [
              0.6666666666666666,
              "#ed7953"
             ],
             [
              0.7777777777777778,
              "#fb9f3a"
             ],
             [
              0.8888888888888888,
              "#fdca26"
             ],
             [
              1,
              "#f0f921"
             ]
            ],
            "type": "heatmapgl"
           }
          ],
          "histogram": [
           {
            "marker": {
             "colorbar": {
              "outlinewidth": 0,
              "ticks": ""
             }
            },
            "type": "histogram"
           }
          ],
          "histogram2d": [
           {
            "colorbar": {
             "outlinewidth": 0,
             "ticks": ""
            },
            "colorscale": [
             [
              0,
              "#0d0887"
             ],
             [
              0.1111111111111111,
              "#46039f"
             ],
             [
              0.2222222222222222,
              "#7201a8"
             ],
             [
              0.3333333333333333,
              "#9c179e"
             ],
             [
              0.4444444444444444,
              "#bd3786"
             ],
             [
              0.5555555555555556,
              "#d8576b"
             ],
             [
              0.6666666666666666,
              "#ed7953"
             ],
             [
              0.7777777777777778,
              "#fb9f3a"
             ],
             [
              0.8888888888888888,
              "#fdca26"
             ],
             [
              1,
              "#f0f921"
             ]
            ],
            "type": "histogram2d"
           }
          ],
          "histogram2dcontour": [
           {
            "colorbar": {
             "outlinewidth": 0,
             "ticks": ""
            },
            "colorscale": [
             [
              0,
              "#0d0887"
             ],
             [
              0.1111111111111111,
              "#46039f"
             ],
             [
              0.2222222222222222,
              "#7201a8"
             ],
             [
              0.3333333333333333,
              "#9c179e"
             ],
             [
              0.4444444444444444,
              "#bd3786"
             ],
             [
              0.5555555555555556,
              "#d8576b"
             ],
             [
              0.6666666666666666,
              "#ed7953"
             ],
             [
              0.7777777777777778,
              "#fb9f3a"
             ],
             [
              0.8888888888888888,
              "#fdca26"
             ],
             [
              1,
              "#f0f921"
             ]
            ],
            "type": "histogram2dcontour"
           }
          ],
          "mesh3d": [
           {
            "colorbar": {
             "outlinewidth": 0,
             "ticks": ""
            },
            "type": "mesh3d"
           }
          ],
          "parcoords": [
           {
            "line": {
             "colorbar": {
              "outlinewidth": 0,
              "ticks": ""
             }
            },
            "type": "parcoords"
           }
          ],
          "pie": [
           {
            "automargin": true,
            "type": "pie"
           }
          ],
          "scatter": [
           {
            "marker": {
             "colorbar": {
              "outlinewidth": 0,
              "ticks": ""
             }
            },
            "type": "scatter"
           }
          ],
          "scatter3d": [
           {
            "line": {
             "colorbar": {
              "outlinewidth": 0,
              "ticks": ""
             }
            },
            "marker": {
             "colorbar": {
              "outlinewidth": 0,
              "ticks": ""
             }
            },
            "type": "scatter3d"
           }
          ],
          "scattercarpet": [
           {
            "marker": {
             "colorbar": {
              "outlinewidth": 0,
              "ticks": ""
             }
            },
            "type": "scattercarpet"
           }
          ],
          "scattergeo": [
           {
            "marker": {
             "colorbar": {
              "outlinewidth": 0,
              "ticks": ""
             }
            },
            "type": "scattergeo"
           }
          ],
          "scattergl": [
           {
            "marker": {
             "colorbar": {
              "outlinewidth": 0,
              "ticks": ""
             }
            },
            "type": "scattergl"
           }
          ],
          "scattermapbox": [
           {
            "marker": {
             "colorbar": {
              "outlinewidth": 0,
              "ticks": ""
             }
            },
            "type": "scattermapbox"
           }
          ],
          "scatterpolar": [
           {
            "marker": {
             "colorbar": {
              "outlinewidth": 0,
              "ticks": ""
             }
            },
            "type": "scatterpolar"
           }
          ],
          "scatterpolargl": [
           {
            "marker": {
             "colorbar": {
              "outlinewidth": 0,
              "ticks": ""
             }
            },
            "type": "scatterpolargl"
           }
          ],
          "scatterternary": [
           {
            "marker": {
             "colorbar": {
              "outlinewidth": 0,
              "ticks": ""
             }
            },
            "type": "scatterternary"
           }
          ],
          "surface": [
           {
            "colorbar": {
             "outlinewidth": 0,
             "ticks": ""
            },
            "colorscale": [
             [
              0,
              "#0d0887"
             ],
             [
              0.1111111111111111,
              "#46039f"
             ],
             [
              0.2222222222222222,
              "#7201a8"
             ],
             [
              0.3333333333333333,
              "#9c179e"
             ],
             [
              0.4444444444444444,
              "#bd3786"
             ],
             [
              0.5555555555555556,
              "#d8576b"
             ],
             [
              0.6666666666666666,
              "#ed7953"
             ],
             [
              0.7777777777777778,
              "#fb9f3a"
             ],
             [
              0.8888888888888888,
              "#fdca26"
             ],
             [
              1,
              "#f0f921"
             ]
            ],
            "type": "surface"
           }
          ],
          "table": [
           {
            "cells": {
             "fill": {
              "color": "#EBF0F8"
             },
             "line": {
              "color": "white"
             }
            },
            "header": {
             "fill": {
              "color": "#C8D4E3"
             },
             "line": {
              "color": "white"
             }
            },
            "type": "table"
           }
          ]
         },
         "layout": {
          "annotationdefaults": {
           "arrowcolor": "#2a3f5f",
           "arrowhead": 0,
           "arrowwidth": 1
          },
          "coloraxis": {
           "colorbar": {
            "outlinewidth": 0,
            "ticks": ""
           }
          },
          "colorscale": {
           "diverging": [
            [
             0,
             "#8e0152"
            ],
            [
             0.1,
             "#c51b7d"
            ],
            [
             0.2,
             "#de77ae"
            ],
            [
             0.3,
             "#f1b6da"
            ],
            [
             0.4,
             "#fde0ef"
            ],
            [
             0.5,
             "#f7f7f7"
            ],
            [
             0.6,
             "#e6f5d0"
            ],
            [
             0.7,
             "#b8e186"
            ],
            [
             0.8,
             "#7fbc41"
            ],
            [
             0.9,
             "#4d9221"
            ],
            [
             1,
             "#276419"
            ]
           ],
           "sequential": [
            [
             0,
             "#0d0887"
            ],
            [
             0.1111111111111111,
             "#46039f"
            ],
            [
             0.2222222222222222,
             "#7201a8"
            ],
            [
             0.3333333333333333,
             "#9c179e"
            ],
            [
             0.4444444444444444,
             "#bd3786"
            ],
            [
             0.5555555555555556,
             "#d8576b"
            ],
            [
             0.6666666666666666,
             "#ed7953"
            ],
            [
             0.7777777777777778,
             "#fb9f3a"
            ],
            [
             0.8888888888888888,
             "#fdca26"
            ],
            [
             1,
             "#f0f921"
            ]
           ],
           "sequentialminus": [
            [
             0,
             "#0d0887"
            ],
            [
             0.1111111111111111,
             "#46039f"
            ],
            [
             0.2222222222222222,
             "#7201a8"
            ],
            [
             0.3333333333333333,
             "#9c179e"
            ],
            [
             0.4444444444444444,
             "#bd3786"
            ],
            [
             0.5555555555555556,
             "#d8576b"
            ],
            [
             0.6666666666666666,
             "#ed7953"
            ],
            [
             0.7777777777777778,
             "#fb9f3a"
            ],
            [
             0.8888888888888888,
             "#fdca26"
            ],
            [
             1,
             "#f0f921"
            ]
           ]
          },
          "colorway": [
           "#636efa",
           "#EF553B",
           "#00cc96",
           "#ab63fa",
           "#FFA15A",
           "#19d3f3",
           "#FF6692",
           "#B6E880",
           "#FF97FF",
           "#FECB52"
          ],
          "font": {
           "color": "#2a3f5f"
          },
          "geo": {
           "bgcolor": "white",
           "lakecolor": "white",
           "landcolor": "#E5ECF6",
           "showlakes": true,
           "showland": true,
           "subunitcolor": "white"
          },
          "hoverlabel": {
           "align": "left"
          },
          "hovermode": "closest",
          "mapbox": {
           "style": "light"
          },
          "paper_bgcolor": "white",
          "plot_bgcolor": "#E5ECF6",
          "polar": {
           "angularaxis": {
            "gridcolor": "white",
            "linecolor": "white",
            "ticks": ""
           },
           "bgcolor": "#E5ECF6",
           "radialaxis": {
            "gridcolor": "white",
            "linecolor": "white",
            "ticks": ""
           }
          },
          "scene": {
           "xaxis": {
            "backgroundcolor": "#E5ECF6",
            "gridcolor": "white",
            "gridwidth": 2,
            "linecolor": "white",
            "showbackground": true,
            "ticks": "",
            "zerolinecolor": "white"
           },
           "yaxis": {
            "backgroundcolor": "#E5ECF6",
            "gridcolor": "white",
            "gridwidth": 2,
            "linecolor": "white",
            "showbackground": true,
            "ticks": "",
            "zerolinecolor": "white"
           },
           "zaxis": {
            "backgroundcolor": "#E5ECF6",
            "gridcolor": "white",
            "gridwidth": 2,
            "linecolor": "white",
            "showbackground": true,
            "ticks": "",
            "zerolinecolor": "white"
           }
          },
          "shapedefaults": {
           "line": {
            "color": "#2a3f5f"
           }
          },
          "ternary": {
           "aaxis": {
            "gridcolor": "white",
            "linecolor": "white",
            "ticks": ""
           },
           "baxis": {
            "gridcolor": "white",
            "linecolor": "white",
            "ticks": ""
           },
           "bgcolor": "#E5ECF6",
           "caxis": {
            "gridcolor": "white",
            "linecolor": "white",
            "ticks": ""
           }
          },
          "title": {
           "x": 0.05
          },
          "xaxis": {
           "automargin": true,
           "gridcolor": "white",
           "linecolor": "white",
           "ticks": "",
           "title": {
            "standoff": 15
           },
           "zerolinecolor": "white",
           "zerolinewidth": 2
          },
          "yaxis": {
           "automargin": true,
           "gridcolor": "white",
           "linecolor": "white",
           "ticks": "",
           "title": {
            "standoff": 15
           },
           "zerolinecolor": "white",
           "zerolinewidth": 2
          }
         }
        },
        "title": {
         "text": "Enrollment in College Fails to Keep Pace with Admissions: All 165 schools"
        },
        "xaxis": {
         "zeroline": true
        },
        "yaxis": {
         "title": {
          "text": "Total Number of Students"
         },
         "zeroline": true
        }
       }
      },
      "text/html": [
       "<div>\n",
       "        \n",
       "        \n",
       "            <div id=\"1d81af7d-0e48-4e27-b742-083b76e53ca4\" class=\"plotly-graph-div\" style=\"height:525px; width:100%;\"></div>\n",
       "            <script type=\"text/javascript\">\n",
       "                require([\"plotly\"], function(Plotly) {\n",
       "                    window.PLOTLYENV=window.PLOTLYENV || {};\n",
       "                    \n",
       "                if (document.getElementById(\"1d81af7d-0e48-4e27-b742-083b76e53ca4\")) {\n",
       "                    Plotly.newPlot(\n",
       "                        '1d81af7d-0e48-4e27-b742-083b76e53ca4',\n",
       "                        [{\"line\": {\"color\": \"#F44DDB\"}, \"marker\": {\"color\": \"rgba(152, 0, 0, .8)\", \"line\": {\"width\": 2}, \"size\": 10}, \"mode\": \"lines+markers\", \"name\": \"Number of student applications\", \"opacity\": 0.8, \"type\": \"scatter\", \"x\": [\"2001-01-01T00:00:00\", \"2002-01-01T00:00:00\", \"2003-01-01T00:00:00\", \"2004-01-01T00:00:00\", \"2005-01-01T00:00:00\", \"2006-01-01T00:00:00\", \"2007-01-01T00:00:00\", \"2008-01-01T00:00:00\", \"2009-01-01T00:00:00\", \"2010-01-01T00:00:00\", \"2011-01-01T00:00:00\", \"2012-01-01T00:00:00\", \"2013-01-01T00:00:00\", \"2014-01-01T00:00:00\", \"2015-01-01T00:00:00\", \"2016-01-01T00:00:00\", \"2017-01-01T00:00:00\"], \"y\": [1730847.0, 1826774.0, 1946250.0, 2018482.0, 2129522.0, 2262712.0, 2445396.0, 2620714.0, 2799269.0, 2913539.0, 3045087.0, 3131811.0, 3298311.0, 3534975.0, 3642120.0, 3785536.0, 3924096.0]}, {\"line\": {\"color\": \"#CF1214\"}, \"marker\": {\"color\": \"rgba(152, 0, 0, .8)\", \"line\": {\"width\": 2}, \"size\": 10}, \"mode\": \"lines+markers\", \"name\": \"Number of students admitted\", \"opacity\": 0.8, \"type\": \"scatter\", \"x\": [\"2001-01-01T00:00:00\", \"2002-01-01T00:00:00\", \"2003-01-01T00:00:00\", \"2004-01-01T00:00:00\", \"2005-01-01T00:00:00\", \"2006-01-01T00:00:00\", \"2007-01-01T00:00:00\", \"2008-01-01T00:00:00\", \"2009-01-01T00:00:00\", \"2010-01-01T00:00:00\", \"2011-01-01T00:00:00\", \"2012-01-01T00:00:00\", \"2013-01-01T00:00:00\", \"2014-01-01T00:00:00\", \"2015-01-01T00:00:00\", \"2016-01-01T00:00:00\", \"2017-01-01T00:00:00\"], \"y\": [1066504.0, 1106011.0, 1156971.0, 1189970.0, 1242142.0, 1307319.0, 1398352.0, 1446276.0, 1517961.0, 1555803.0, 1572822.0, 1644161.0, 1710916.0, 1815060.0, 1841608.0, 1933978.0, 1986593.0]}, {\"line\": {\"color\": \"#0E3DEC\"}, \"marker\": {\"color\": \"rgba(152, 0, 0, .8)\", \"line\": {\"width\": 2}, \"size\": 10}, \"mode\": \"lines+markers\", \"name\": \"Number enrolled\", \"opacity\": 0.8, \"type\": \"scatter\", \"x\": [\"2001-01-01T00:00:00\", \"2002-01-01T00:00:00\", \"2003-01-01T00:00:00\", \"2004-01-01T00:00:00\", \"2005-01-01T00:00:00\", \"2006-01-01T00:00:00\", \"2007-01-01T00:00:00\", \"2008-01-01T00:00:00\", \"2009-01-01T00:00:00\", \"2010-01-01T00:00:00\", \"2011-01-01T00:00:00\", \"2012-01-01T00:00:00\", \"2013-01-01T00:00:00\", \"2014-01-01T00:00:00\", \"2015-01-01T00:00:00\", \"2016-01-01T00:00:00\", \"2017-01-01T00:00:00\"], \"y\": [417773.0, 428975.0, 436719.0, 439826.0, 447040.0, 462130.0, 474098.0, 480720.0, 491909.0, 485549.0, 485252.0, 492297.0, 499659.0, 517905.0, 525102.0, 534664.0, 545925.0]}],\n",
       "                        {\"template\": {\"data\": {\"bar\": [{\"error_x\": {\"color\": \"#2a3f5f\"}, \"error_y\": {\"color\": \"#2a3f5f\"}, \"marker\": {\"line\": {\"color\": \"#E5ECF6\", \"width\": 0.5}}, \"type\": \"bar\"}], \"barpolar\": [{\"marker\": {\"line\": {\"color\": \"#E5ECF6\", \"width\": 0.5}}, \"type\": \"barpolar\"}], \"carpet\": [{\"aaxis\": {\"endlinecolor\": \"#2a3f5f\", \"gridcolor\": \"white\", \"linecolor\": \"white\", \"minorgridcolor\": \"white\", \"startlinecolor\": \"#2a3f5f\"}, \"baxis\": {\"endlinecolor\": \"#2a3f5f\", \"gridcolor\": \"white\", \"linecolor\": \"white\", \"minorgridcolor\": \"white\", \"startlinecolor\": \"#2a3f5f\"}, \"type\": \"carpet\"}], \"choropleth\": [{\"colorbar\": {\"outlinewidth\": 0, \"ticks\": \"\"}, \"type\": \"choropleth\"}], \"contour\": [{\"colorbar\": {\"outlinewidth\": 0, \"ticks\": \"\"}, \"colorscale\": [[0.0, \"#0d0887\"], [0.1111111111111111, \"#46039f\"], [0.2222222222222222, \"#7201a8\"], [0.3333333333333333, \"#9c179e\"], [0.4444444444444444, \"#bd3786\"], [0.5555555555555556, \"#d8576b\"], [0.6666666666666666, \"#ed7953\"], [0.7777777777777778, \"#fb9f3a\"], [0.8888888888888888, \"#fdca26\"], [1.0, \"#f0f921\"]], \"type\": \"contour\"}], \"contourcarpet\": [{\"colorbar\": {\"outlinewidth\": 0, \"ticks\": \"\"}, \"type\": \"contourcarpet\"}], \"heatmap\": [{\"colorbar\": {\"outlinewidth\": 0, \"ticks\": \"\"}, \"colorscale\": [[0.0, \"#0d0887\"], [0.1111111111111111, \"#46039f\"], [0.2222222222222222, \"#7201a8\"], [0.3333333333333333, \"#9c179e\"], [0.4444444444444444, \"#bd3786\"], [0.5555555555555556, \"#d8576b\"], [0.6666666666666666, \"#ed7953\"], [0.7777777777777778, \"#fb9f3a\"], [0.8888888888888888, \"#fdca26\"], [1.0, \"#f0f921\"]], \"type\": \"heatmap\"}], \"heatmapgl\": [{\"colorbar\": {\"outlinewidth\": 0, \"ticks\": \"\"}, \"colorscale\": [[0.0, \"#0d0887\"], [0.1111111111111111, \"#46039f\"], [0.2222222222222222, \"#7201a8\"], [0.3333333333333333, \"#9c179e\"], [0.4444444444444444, \"#bd3786\"], [0.5555555555555556, \"#d8576b\"], [0.6666666666666666, \"#ed7953\"], [0.7777777777777778, \"#fb9f3a\"], [0.8888888888888888, \"#fdca26\"], [1.0, \"#f0f921\"]], \"type\": \"heatmapgl\"}], \"histogram\": [{\"marker\": {\"colorbar\": {\"outlinewidth\": 0, \"ticks\": \"\"}}, \"type\": \"histogram\"}], \"histogram2d\": [{\"colorbar\": {\"outlinewidth\": 0, \"ticks\": \"\"}, \"colorscale\": [[0.0, \"#0d0887\"], [0.1111111111111111, \"#46039f\"], [0.2222222222222222, \"#7201a8\"], [0.3333333333333333, \"#9c179e\"], [0.4444444444444444, \"#bd3786\"], [0.5555555555555556, \"#d8576b\"], [0.6666666666666666, \"#ed7953\"], [0.7777777777777778, \"#fb9f3a\"], [0.8888888888888888, \"#fdca26\"], [1.0, \"#f0f921\"]], \"type\": \"histogram2d\"}], \"histogram2dcontour\": [{\"colorbar\": {\"outlinewidth\": 0, \"ticks\": \"\"}, \"colorscale\": [[0.0, \"#0d0887\"], [0.1111111111111111, \"#46039f\"], [0.2222222222222222, \"#7201a8\"], [0.3333333333333333, \"#9c179e\"], [0.4444444444444444, \"#bd3786\"], [0.5555555555555556, \"#d8576b\"], [0.6666666666666666, \"#ed7953\"], [0.7777777777777778, \"#fb9f3a\"], [0.8888888888888888, \"#fdca26\"], [1.0, \"#f0f921\"]], \"type\": \"histogram2dcontour\"}], \"mesh3d\": [{\"colorbar\": {\"outlinewidth\": 0, \"ticks\": \"\"}, \"type\": \"mesh3d\"}], \"parcoords\": [{\"line\": {\"colorbar\": {\"outlinewidth\": 0, \"ticks\": \"\"}}, \"type\": \"parcoords\"}], \"pie\": [{\"automargin\": true, \"type\": \"pie\"}], \"scatter\": [{\"marker\": {\"colorbar\": {\"outlinewidth\": 0, \"ticks\": \"\"}}, \"type\": \"scatter\"}], \"scatter3d\": [{\"line\": {\"colorbar\": {\"outlinewidth\": 0, \"ticks\": \"\"}}, \"marker\": {\"colorbar\": {\"outlinewidth\": 0, \"ticks\": \"\"}}, \"type\": \"scatter3d\"}], \"scattercarpet\": [{\"marker\": {\"colorbar\": {\"outlinewidth\": 0, \"ticks\": \"\"}}, \"type\": \"scattercarpet\"}], \"scattergeo\": [{\"marker\": {\"colorbar\": {\"outlinewidth\": 0, \"ticks\": \"\"}}, \"type\": \"scattergeo\"}], \"scattergl\": [{\"marker\": {\"colorbar\": {\"outlinewidth\": 0, \"ticks\": \"\"}}, \"type\": \"scattergl\"}], \"scattermapbox\": [{\"marker\": {\"colorbar\": {\"outlinewidth\": 0, \"ticks\": \"\"}}, \"type\": \"scattermapbox\"}], \"scatterpolar\": [{\"marker\": {\"colorbar\": {\"outlinewidth\": 0, \"ticks\": \"\"}}, \"type\": \"scatterpolar\"}], \"scatterpolargl\": [{\"marker\": {\"colorbar\": {\"outlinewidth\": 0, \"ticks\": \"\"}}, \"type\": \"scatterpolargl\"}], \"scatterternary\": [{\"marker\": {\"colorbar\": {\"outlinewidth\": 0, \"ticks\": \"\"}}, \"type\": \"scatterternary\"}], \"surface\": [{\"colorbar\": {\"outlinewidth\": 0, \"ticks\": \"\"}, \"colorscale\": [[0.0, \"#0d0887\"], [0.1111111111111111, \"#46039f\"], [0.2222222222222222, \"#7201a8\"], [0.3333333333333333, \"#9c179e\"], [0.4444444444444444, \"#bd3786\"], [0.5555555555555556, \"#d8576b\"], [0.6666666666666666, \"#ed7953\"], [0.7777777777777778, \"#fb9f3a\"], [0.8888888888888888, \"#fdca26\"], [1.0, \"#f0f921\"]], \"type\": \"surface\"}], \"table\": [{\"cells\": {\"fill\": {\"color\": \"#EBF0F8\"}, \"line\": {\"color\": \"white\"}}, \"header\": {\"fill\": {\"color\": \"#C8D4E3\"}, \"line\": {\"color\": \"white\"}}, \"type\": \"table\"}]}, \"layout\": {\"annotationdefaults\": {\"arrowcolor\": \"#2a3f5f\", \"arrowhead\": 0, \"arrowwidth\": 1}, \"coloraxis\": {\"colorbar\": {\"outlinewidth\": 0, \"ticks\": \"\"}}, \"colorscale\": {\"diverging\": [[0, \"#8e0152\"], [0.1, \"#c51b7d\"], [0.2, \"#de77ae\"], [0.3, \"#f1b6da\"], [0.4, \"#fde0ef\"], [0.5, \"#f7f7f7\"], [0.6, \"#e6f5d0\"], [0.7, \"#b8e186\"], [0.8, \"#7fbc41\"], [0.9, \"#4d9221\"], [1, \"#276419\"]], \"sequential\": [[0.0, \"#0d0887\"], [0.1111111111111111, \"#46039f\"], [0.2222222222222222, \"#7201a8\"], [0.3333333333333333, \"#9c179e\"], [0.4444444444444444, \"#bd3786\"], [0.5555555555555556, \"#d8576b\"], [0.6666666666666666, \"#ed7953\"], [0.7777777777777778, \"#fb9f3a\"], [0.8888888888888888, \"#fdca26\"], [1.0, \"#f0f921\"]], \"sequentialminus\": [[0.0, \"#0d0887\"], [0.1111111111111111, \"#46039f\"], [0.2222222222222222, \"#7201a8\"], [0.3333333333333333, \"#9c179e\"], [0.4444444444444444, \"#bd3786\"], [0.5555555555555556, \"#d8576b\"], [0.6666666666666666, \"#ed7953\"], [0.7777777777777778, \"#fb9f3a\"], [0.8888888888888888, \"#fdca26\"], [1.0, \"#f0f921\"]]}, \"colorway\": [\"#636efa\", \"#EF553B\", \"#00cc96\", \"#ab63fa\", \"#FFA15A\", \"#19d3f3\", \"#FF6692\", \"#B6E880\", \"#FF97FF\", \"#FECB52\"], \"font\": {\"color\": \"#2a3f5f\"}, \"geo\": {\"bgcolor\": \"white\", \"lakecolor\": \"white\", \"landcolor\": \"#E5ECF6\", \"showlakes\": true, \"showland\": true, \"subunitcolor\": \"white\"}, \"hoverlabel\": {\"align\": \"left\"}, \"hovermode\": \"closest\", \"mapbox\": {\"style\": \"light\"}, \"paper_bgcolor\": \"white\", \"plot_bgcolor\": \"#E5ECF6\", \"polar\": {\"angularaxis\": {\"gridcolor\": \"white\", \"linecolor\": \"white\", \"ticks\": \"\"}, \"bgcolor\": \"#E5ECF6\", \"radialaxis\": {\"gridcolor\": \"white\", \"linecolor\": \"white\", \"ticks\": \"\"}}, \"scene\": {\"xaxis\": {\"backgroundcolor\": \"#E5ECF6\", \"gridcolor\": \"white\", \"gridwidth\": 2, \"linecolor\": \"white\", \"showbackground\": true, \"ticks\": \"\", \"zerolinecolor\": \"white\"}, \"yaxis\": {\"backgroundcolor\": \"#E5ECF6\", \"gridcolor\": \"white\", \"gridwidth\": 2, \"linecolor\": \"white\", \"showbackground\": true, \"ticks\": \"\", \"zerolinecolor\": \"white\"}, \"zaxis\": {\"backgroundcolor\": \"#E5ECF6\", \"gridcolor\": \"white\", \"gridwidth\": 2, \"linecolor\": \"white\", \"showbackground\": true, \"ticks\": \"\", \"zerolinecolor\": \"white\"}}, \"shapedefaults\": {\"line\": {\"color\": \"#2a3f5f\"}}, \"ternary\": {\"aaxis\": {\"gridcolor\": \"white\", \"linecolor\": \"white\", \"ticks\": \"\"}, \"baxis\": {\"gridcolor\": \"white\", \"linecolor\": \"white\", \"ticks\": \"\"}, \"bgcolor\": \"#E5ECF6\", \"caxis\": {\"gridcolor\": \"white\", \"linecolor\": \"white\", \"ticks\": \"\"}}, \"title\": {\"x\": 0.05}, \"xaxis\": {\"automargin\": true, \"gridcolor\": \"white\", \"linecolor\": \"white\", \"ticks\": \"\", \"title\": {\"standoff\": 15}, \"zerolinecolor\": \"white\", \"zerolinewidth\": 2}, \"yaxis\": {\"automargin\": true, \"gridcolor\": \"white\", \"linecolor\": \"white\", \"ticks\": \"\", \"title\": {\"standoff\": 15}, \"zerolinecolor\": \"white\", \"zerolinewidth\": 2}}}, \"title\": {\"text\": \"Enrollment in College Fails to Keep Pace with Admissions: All 165 schools\"}, \"xaxis\": {\"zeroline\": true}, \"yaxis\": {\"title\": {\"text\": \"Total Number of Students\"}, \"zeroline\": true}},\n",
       "                        {\"responsive\": true}\n",
       "                    ).then(function(){\n",
       "                            \n",
       "var gd = document.getElementById('1d81af7d-0e48-4e27-b742-083b76e53ca4');\n",
       "var x = new MutationObserver(function (mutations, observer) {{\n",
       "        var display = window.getComputedStyle(gd).display;\n",
       "        if (!display || display === 'none') {{\n",
       "            console.log([gd, 'removed!']);\n",
       "            Plotly.purge(gd);\n",
       "            observer.disconnect();\n",
       "        }}\n",
       "}});\n",
       "\n",
       "// Listen for the removal of the full notebook cells\n",
       "var notebookContainer = gd.closest('#notebook-container');\n",
       "if (notebookContainer) {{\n",
       "    x.observe(notebookContainer, {childList: true});\n",
       "}}\n",
       "\n",
       "// Listen for the clearing of the current output cell\n",
       "var outputEl = gd.closest('.output');\n",
       "if (outputEl) {{\n",
       "    x.observe(outputEl, {childList: true});\n",
       "}}\n",
       "\n",
       "                        })\n",
       "                };\n",
       "                });\n",
       "            </script>\n",
       "        </div>"
      ]
     },
     "metadata": {},
     "output_type": "display_data"
    }
   ],
   "source": [
    "# Background 1 Callback\n",
    "active_tab='CumulativeAdmissions'\n",
    "selected=''\n",
    "\n",
    "# Set xlabel based on selection (useful for debuggins)\n",
    "xlab=[opt['label'] for opt in state_options_enrollment if opt['value']==selected]\n",
    "    \n",
    "    # Render the tab content based on value of 'active_tab' (other input, 'selected' used to crossfilter)\n",
    "if active_tab == \"CumulativeAdmissions\":\n",
    "    which_columns = ['number_applied','number_admitted','number_enrolled_total']\n",
    "    graph_title = 'Enrollment in College Fails to Keep Pace with Admissions'+\": \"+xlab[0]\n",
    "    ylabel = 'Total Number of Students'        \n",
    "    markdown_comments = \"\"\"Insert comments A, B, C\"\"\"\n",
    "    if len(selected)==0:\n",
    "        df_fig = df.groupby(['year'])[which_columns].aggregate([('Sum','sum'), ('Nschools','count')])\n",
    "    else:\n",
    "        df_fig = df[df.state_name==selected].groupby(['year'])[which_columns].aggregate([('Sum','sum'), ('Nschools','count')])\n",
    "    fig = go.Figure()\n",
    "    for col in which_columns:\n",
    "        fig.add_trace(\n",
    "            go.Scatter(x=df_fig.index, y=df_fig[col]['Sum'], \n",
    "                name = seriez[col]['label'], marker_color='rgba(152, 0, 0, .8)',\n",
    "                line = dict(color = seriez[col]['color']), opacity = 0.8))\n",
    "\n",
    "elif active_tab == \"RateAdmissions\":\n",
    "    which_columns = ['admission_rate','enrollement_rate']\n",
    "    graph_title = 'Admission and Enrollment Rates over time'+\": \"+xlab[0]\n",
    "    ylabel = 'Rate'\n",
    "    markdown_comments = \"\"\"Insert comments D, E\"\"\"\n",
    "    if len(selected)==0:\n",
    "        df_fig = df.groupby(['year'])[which_columns].aggregate([('Avg',np.mean), ('stdev',np.std), ('Nschools','count'), ('SEM', sem_btwn)])        \n",
    "    else:\n",
    "        df_fig = df[df.state_name==selected].groupby(['year'])[which_columns].aggregate([('Avg',np.mean), ('stdev',np.std), ('Nschools','count'), ('SEM', sem_btwn)])\n",
    "    fig = go.Figure()\n",
    "    for col in which_columns:\n",
    "        fig.add_trace(\n",
    "            go.Scatter(x=df_fig.index, y=df_fig[col]['Avg'], \n",
    "                name = seriez[col]['label'], marker_color='rgba(152, 0, 0, .8)',\n",
    "                line = dict(color = seriez[col]['color']), \n",
    "                error_y = dict(type='data', array=df_fig[col]['SEM'], visible=True),\n",
    "                opacity = 0.8))\n",
    "# Set options common to all traces with fig.update_traces\n",
    "fig.update_traces(mode='lines+markers', marker_line_width=2, marker_size=10)\n",
    "fig.update_layout(title=graph_title,yaxis={'title': ylabel},\n",
    "                  yaxis_zeroline=True, xaxis_zeroline=True)\n",
    "fig.show()\n"
   ]
  },
  {
   "cell_type": "code",
   "execution_count": 60,
   "metadata": {},
   "outputs": [
    {
     "data": {
      "text/plain": [
       "MultiIndex(levels=[['number_applied', 'number_admitted', 'number_enrolled_total'], ['Sum', 'Nschools']],\n",
       "           codes=[[0, 0, 1, 1, 2, 2], [0, 1, 0, 1, 0, 1]])"
      ]
     },
     "execution_count": 60,
     "metadata": {},
     "output_type": "execute_result"
    }
   ],
   "source": [
    "for c1 in df_fig.columns[]"
   ]
  },
  {
   "cell_type": "code",
   "execution_count": 80,
   "metadata": {},
   "outputs": [
    {
     "data": {
      "text/plain": [
       "'number_applied'"
      ]
     },
     "execution_count": 80,
     "metadata": {},
     "output_type": "execute_result"
    }
   ],
   "source": [
    "df_fig.columns[0][0]"
   ]
  },
  {
   "cell_type": "code",
   "execution_count": 81,
   "metadata": {},
   "outputs": [
    {
     "data": {
      "text/plain": [
       "MultiIndex(levels=[['number_applied', 'number_admitted', 'number_enrolled_total'], ['Sum', 'Nschools']],\n",
       "           codes=[[0, 0, 1, 1, 2, 2], [0, 1, 0, 1, 0, 1]])"
      ]
     },
     "execution_count": 81,
     "metadata": {},
     "output_type": "execute_result"
    }
   ],
   "source": [
    "blah = df_fig.columns\n",
    "blah"
   ]
  },
  {
   "cell_type": "code",
   "execution_count": 93,
   "metadata": {},
   "outputs": [
    {
     "data": {
      "text/plain": [
       "Index(['Sum', 'Nschools'], dtype='object')"
      ]
     },
     "execution_count": 93,
     "metadata": {},
     "output_type": "execute_result"
    }
   ],
   "source": [
    "blah.levels[1].to_"
   ]
  },
  {
   "cell_type": "code",
   "execution_count": null,
   "metadata": {},
   "outputs": [],
   "source": []
  }
 ],
 "metadata": {
  "kernelspec": {
   "display_name": "Python 3",
   "language": "python",
   "name": "python3"
  },
  "language_info": {
   "codemirror_mode": {
    "name": "ipython",
    "version": 3
   },
   "file_extension": ".py",
   "mimetype": "text/x-python",
   "name": "python",
   "nbconvert_exporter": "python",
   "pygments_lexer": "ipython3",
   "version": "3.7.7"
  }
 },
 "nbformat": 4,
 "nbformat_minor": 2
}
